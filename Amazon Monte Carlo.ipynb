{
 "cells": [
  {
   "cell_type": "markdown",
   "metadata": {},
   "source": [
    "# Simulate Amazon stock prices\n",
    "\n",
    "Using historical data from Yahoo for 2014-10-01 to 2016-09-30, we computed historical returns in a Google sheet, and now we will do a Monte Carlo simulation using the standard devision of returns."
   ]
  },
  {
   "cell_type": "code",
   "execution_count": 16,
   "metadata": {},
   "outputs": [
    {
     "name": "stdout",
     "output_type": "stream",
     "text": [
      "Populating the interactive namespace from numpy and matplotlib\n",
      "2625.8235577\n",
      "3343.56471083\n"
     ]
    },
    {
     "data": {
      "text/plain": [
       "(array([ 0.00204536,  0.        ,  0.        ,  0.00051134,  0.00153402,\n",
       "         0.00153402,  0.00409073,  0.00153402,  0.0025567 ,  0.00306804,\n",
       "         0.00204536,  0.00971547,  0.00613609,  0.00613609,  0.0112495 ,\n",
       "         0.0163629 ,  0.01278352,  0.01329486,  0.01687424,  0.01891961,\n",
       "         0.01840826,  0.02556703,  0.02301033,  0.02710106,  0.01840826,\n",
       "         0.02556703,  0.03068044,  0.02454435,  0.02505569,  0.02454435,\n",
       "         0.01943095,  0.02249899,  0.0112495 ,  0.01534022,  0.01227218,\n",
       "         0.00920413,  0.00920413,  0.00613609,  0.00613609,  0.00715877,\n",
       "         0.00511341,  0.00153402,  0.00204536,  0.00153402,  0.0025567 ,\n",
       "         0.00204536,  0.00051134,  0.00102268,  0.        ,  0.00102268]),\n",
       " array([ 788.22256692,  790.18606424,  792.14956157,  794.11305889,\n",
       "         796.07655621,  798.04005354,  800.00355086,  801.96704818,\n",
       "         803.93054551,  805.89404283,  807.85754015,  809.82103748,\n",
       "         811.7845348 ,  813.74803212,  815.71152944,  817.67502677,\n",
       "         819.63852409,  821.60202141,  823.56551874,  825.52901606,\n",
       "         827.49251338,  829.45601071,  831.41950803,  833.38300535,\n",
       "         835.34650268,  837.31      ,  839.27349732,  841.23699465,\n",
       "         843.20049197,  845.16398929,  847.12748662,  849.09098394,\n",
       "         851.05448126,  853.01797859,  854.98147591,  856.94497323,\n",
       "         858.90847056,  860.87196788,  862.8354652 ,  864.79896252,\n",
       "         866.76245985,  868.72595717,  870.68945449,  872.65295182,\n",
       "         874.61644914,  876.57994646,  878.54344379,  880.50694111,\n",
       "         882.47043843,  884.43393576,  886.39743308]),\n",
       " <a list of 50 Patch objects>)"
      ]
     },
     "execution_count": 16,
     "metadata": {},
     "output_type": "execute_result"
    },
    {
     "data": {
      "image/png": "[encoded data removed]",
      "text/plain": [
       "<matplotlib.figure.Figure at 0x2111e381748>"
      ]
     },
     "metadata": {},
     "output_type": "display_data"
    }
   ],
   "source": [
    "%pylab inline\n",
    "import numpy as np\n",
    "import matplotlib.pyplot as plt\n",
    "\n",
    "current_price = 837.31\n",
    "sigma_one_day = 0.02\n",
    "\n",
    "# for Monte Carlo, we generate random log returns, apply to the current price to find simulated future prices\n",
    "num_trials = 1000\n",
    "mean_daily_return = 0\n",
    "simulated_log_returns = np.random.normal(mean_daily_return, sigma_one_day, num_trials)\n",
    "simulated_prices = [current_price * np.exp(ret) for ret in simulated_log_returns]\n",
    "\n",
    "num_shares_AMZN = 100\n",
    "profit_and_loss = [num_shares_AMZN * (price - current_price) for price in simulated_prices]\n",
    "var_quantile = 0.05\n",
    "VaR = - sorted(profit_and_loss)[int(var_quantile * num_trials)]\n",
    "print(VaR)\n",
    "\n",
    "VaR_Excessions = [loss for loss in profit_and_loss if loss < - VaR]\n",
    "ES = - np.mean(VaR_Excessions)\n",
    "print(ES)\n",
    "\n",
    "# num_bins = 50\n",
    "# price_sigma = np.std(simulated_prices)\n",
    "# plt.hist(profit_and_loss, bins = num_bins, normed = True, \n",
    "#          align = 'left', rwidth=0.3, \n",
    "#          range = (min(profit_and_loss), max(profit_and_loss)))\n",
    "\n",
    "price_sigma = np.std(simulated_prices)\n",
    "plt.hist(simulated_prices, bins = num_bins, normed = True, \n",
    "         align = 'left', rwidth=0.3, \n",
    "#          range = (current_price * 0.94, current_price * 1.06))\n",
    "         range = (current_price - 3 * price_sigma, current_price + 3 * price_sigma)) # Why not normal? sigma!"
   ]
  },
  {
   "cell_type": "code",
   "execution_count": null,
   "metadata": {
    "collapsed": true
   },
   "outputs": [],
   "source": []
  }
 ],
 "metadata": {
  "kernelspec": {
   "display_name": "Python 3",
   "language": "python",
   "name": "python3"
  },
  "language_info": {
   "codemirror_mode": {
    "name": "ipython",
    "version": 3
   },
   "file_extension": ".py",
   "mimetype": "text/x-python",
   "name": "python",
   "nbconvert_exporter": "python",
   "pygments_lexer": "ipython3",
   "version": "3.6.1"
  }
 },
 "nbformat": 4,
 "nbformat_minor": 2
}
