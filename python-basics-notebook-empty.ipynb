{
 "cells": [
  {
   "cell_type": "markdown",
   "metadata": {},
   "source": [
    "# Python Basics\n",
    "\n",
    "This is a collection of exercises that I wrote as a refresher of key Python features.\n",
    "\n",
    "## Built-in datatypes and variable binding\n",
    "Python uses <a href=“”>late/runtime/dynamic binding</a>. This means that the type of data in a variable is not explicitly identified in a program, like it is in C++ or Java.\""
   ]
  },
  {
   "cell_type": "code",
   "execution_count": 1,
   "metadata": {},
   "outputs": [
    {
     "name": "stdout",
     "output_type": "stream",
     "text": [
      "2 <class 'int'>\n",
      "115792089237316195423570985008687907853269984665640564039457584007913129639936 <class 'int'>\n",
      "1.4142135623730951 <class 'float'>\n",
      "U of M <class 'str'>\n",
      "False <class 'bool'>\n",
      "['a', 2, 3.14, True] <class 'list'>\n"
     ]
    }
   ],
   "source": []
  },
  {
   "cell_type": "markdown",
   "metadata": {},
   "source": [
    "## ints and floats"
   ]
  },
  {
   "cell_type": "code",
   "execution_count": 14,
   "metadata": {},
   "outputs": [
    {
     "name": "stdout",
     "output_type": "stream",
     "text": [
      "7//2 = 3\n",
      "7%2 =1\n",
      "7.0/2 =3.5\n"
     ]
    }
   ],
   "source": [
    "print('7//2 =',7//2)\n",
    "print('7%2 ='+str(7%2))\n",
    "print('7.0/2 ='+str(7.0/2))"
   ]
  },
  {
   "cell_type": "markdown",
   "metadata": {},
   "source": [
    "### boolean\n",
    "\n",
    "Python's boolean values are True and False. It is case-sensitive: capitalizing the first letter is required. "
   ]
  },
  {
   "cell_type": "code",
   "execution_count": 13,
   "metadata": {},
   "outputs": [
    {
     "name": "stdout",
     "output_type": "stream",
     "text": [
      "a is True\n",
      "b is False\n",
      "a and b is False\n",
      "a or b is True\n"
     ]
    }
   ],
   "source": [
    "a = True\n",
    "b = not a\n",
    "print('a is '+str(a))\n",
    "print('b is '+str(b))\n",
    "print('a and b is '+str(a and b))\n",
    "print('a or b is '+str(a or b))"
   ]
  },
  {
   "cell_type": "markdown",
   "metadata": {},
   "source": [
    "### Strings"
   ]
  },
  {
   "cell_type": "code",
   "execution_count": 23,
   "metadata": {},
   "outputs": [
    {
     "name": "stdout",
     "output_type": "stream",
     "text": [
      "Hello,World\n",
      "['Hello', 'World']\n",
      "Hello World\n"
     ]
    }
   ],
   "source": [
    "a='Hello'\n",
    "b='World'\n",
    "c=a+','+b\n",
    "print(c)\n",
    "words=c.split(',')\n",
    "print(words)\n",
    "print(' '.join(words))"
   ]
  },
  {
   "cell_type": "markdown",
   "metadata": {},
   "source": [
    "### Lists and tuples"
   ]
  },
  {
   "cell_type": "code",
   "execution_count": 47,
   "metadata": {},
   "outputs": [
    {
     "data": {
      "text/plain": [
       "14"
      ]
     },
     "execution_count": 47,
     "metadata": {},
     "output_type": "execute_result"
    }
   ],
   "source": [
    "#shortcut for list of consecutive integers\n",
    "x=range(10,15) #list(range(10,15)) is the same\n",
    "x[0:3]\n",
    "x[2:4]\n",
    "x=[10,11,12,13,14]\n",
    "x\n",
    "x[2:]\n",
    "x[:3]\n",
    "x[::2]\n",
    "x[::-1]\n",
    "x[-1]\n",
    "#slices\n"
   ]
  },
  {
   "cell_type": "code",
   "execution_count": 51,
   "metadata": {},
   "outputs": [
    {
     "data": {
      "text/plain": [
       "[(0, 0, 0),\n",
       " (1, 1, 1),\n",
       " (2, 4, 8),\n",
       " (3, 9, 27),\n",
       " (4, 16, 64),\n",
       " (5, 25, 125),\n",
       " (6, 36, 216),\n",
       " (7, 49, 343),\n",
       " (8, 64, 512),\n",
       " (9, 81, 729)]"
      ]
     },
     "execution_count": 51,
     "metadata": {},
     "output_type": "execute_result"
    }
   ],
   "source": [
    "#List comprehension\n",
    "# create a list of squares for integers 0 to 9\n",
    "[x*x for x in range(10)]\n",
    "# create a list of tuples (x, x*x) for integers 0 to 9\n",
    "[(x,x*x) for x in range(10)]\n",
    "# create a list of tuples (x, x*x, x**3) for integers 0 to 9\n",
    "[(x,x*x,x**3) for x in range(10)]"
   ]
  },
  {
   "cell_type": "markdown",
   "metadata": {},
   "source": [
    "## Looping (for, while, reduce)"
   ]
  },
  {
   "cell_type": "code",
   "execution_count": 55,
   "metadata": {},
   "outputs": [
    {
     "data": {
      "text/plain": [
       "5050"
      ]
     },
     "execution_count": 55,
     "metadata": {},
     "output_type": "execute_result"
    }
   ],
   "source": [
    "#for\n",
    "#sum integers from 1 to 100\n",
    "sum_ = 0\n",
    "for i in range(1,101):\n",
    "    sum_ +=i\n",
    "sum_"
   ]
  },
  {
   "cell_type": "code",
   "execution_count": 57,
   "metadata": {},
   "outputs": [
    {
     "data": {
      "text/plain": [
       "5050"
      ]
     },
     "execution_count": 57,
     "metadata": {},
     "output_type": "execute_result"
    }
   ],
   "source": [
    "#while\n",
    "#sum integers from 1 to 100\n",
    "sum_ = 0\n",
    "i=1\n",
    "while i<101:\n",
    "    sum_ += i\n",
    "    i += 1\n",
    "sum_"
   ]
  },
  {
   "cell_type": "code",
   "execution_count": 58,
   "metadata": {},
   "outputs": [
    {
     "data": {
      "text/plain": [
       "5050"
      ]
     },
     "execution_count": 58,
     "metadata": {},
     "output_type": "execute_result"
    }
   ],
   "source": [
    "#concise way to sum integers from 1 to 100 using reduce\n",
    "\n",
    "import functools\n",
    "functools.reduce(lambda i, sum_: i+sum_, range(1,101))"
   ]
  },
  {
   "cell_type": "code",
   "execution_count": 64,
   "metadata": {},
   "outputs": [
    {
     "data": {
      "text/plain": [
       "5050"
      ]
     },
     "execution_count": 64,
     "metadata": {},
     "output_type": "execute_result"
    }
   ],
   "source": [
    "#use the sum function\n",
    "sum(range(1,101))"
   ]
  },
  {
   "cell_type": "code",
   "execution_count": 65,
   "metadata": {},
   "outputs": [
    {
     "data": {
      "text/plain": [
       "5050.0"
      ]
     },
     "execution_count": 65,
     "metadata": {},
     "output_type": "execute_result"
    }
   ],
   "source": [
    "#preferred way to sum floating point (faster) using fsum\n",
    "import math\n",
    "math.fsum(range(1,101))"
   ]
  },
  {
   "cell_type": "markdown",
   "metadata": {},
   "source": [
    "### Conditional execution (if)\n"
   ]
  },
  {
   "cell_type": "code",
   "execution_count": 63,
   "metadata": {},
   "outputs": [
    {
     "name": "stdout",
     "output_type": "stream",
     "text": [
      "0.4855859528284162is 2nd quartile\n"
     ]
    }
   ],
   "source": [
    "#if\n",
    "import random\n",
    "r= random.random()\n",
    "if r<0.25:\n",
    "    print(str(r)+'is bottom quartile')\n",
    "elif r<0.5:\n",
    "    print(str(r)+'is 2nd quartile')\n",
    "else:\n",
    "    print(str(r)+'is above median')"
   ]
  },
  {
   "cell_type": "markdown",
   "metadata": {},
   "source": [
    "### Dictionaries"
   ]
  },
  {
   "cell_type": "code",
   "execution_count": 67,
   "metadata": {},
   "outputs": [
    {
     "data": {
      "text/plain": [
       "160"
      ]
     },
     "execution_count": 67,
     "metadata": {},
     "output_type": "execute_result"
    }
   ],
   "source": [
    "prices={'AMZN':985,'AAPL':160,'FB':168}\n",
    "prices['AAPL']"
   ]
  },
  {
   "cell_type": "code",
   "execution_count": 73,
   "metadata": {},
   "outputs": [
    {
     "data": {
      "text/plain": [
       "{'0': 28,\n",
       " '1': 34,\n",
       " '2': 23,\n",
       " '3': 25,\n",
       " '4': 35,\n",
       " '5': 35,\n",
       " '6': 34,\n",
       " '7': 35,\n",
       " '8': 30,\n",
       " '9': 23}"
      ]
     },
     "execution_count": 73,
     "metadata": {},
     "output_type": "execute_result"
    }
   ],
   "source": [
    "#distribution of characters in a string\n",
    "s = str(2**1000) #variables must be string rather than integer\n",
    "charToCountDictionary={c:0 for c in s} #c is the character, 0 is the count\n",
    "for c in s:\n",
    "    charToCountDictionary[c] += 1\n",
    "charToCountDictionary"
   ]
  },
  {
   "cell_type": "markdown",
   "metadata": {},
   "source": [
    "## Functions"
   ]
  },
  {
   "cell_type": "code",
   "execution_count": 82,
   "metadata": {},
   "outputs": [
    {
     "name": "stdout",
     "output_type": "stream",
     "text": [
      "0! = 1\n",
      "1! = 1\n",
      "2! = 2\n",
      "3! = 6\n",
      "4! = 24\n"
     ]
    }
   ],
   "source": [
    "def factorial(n):\n",
    "    if n==0:\n",
    "        return 1\n",
    "    else:\n",
    "        return n*factorial(n-1)\n",
    "for n in range(0,5):\n",
    "    print(str(n) +\"! =\", factorial(n))"
   ]
  },
  {
   "cell_type": "code",
   "execution_count": 2,
   "metadata": {},
   "outputs": [
    {
     "name": "stdout",
     "output_type": "stream",
     "text": [
      "16\n"
     ]
    }
   ],
   "source": [
    "def gcd(a, b):\n",
    "    reminder=None\n",
    "    while reminder!=0:\n",
    "        reminder=max(a,b)%min(a,b)\n",
    "        a=min(a,b)\n",
    "        b=reminder\n",
    "    return a\n",
    "print(gcd(144, 256))"
   ]
  },
  {
   "cell_type": "code",
   "execution_count": null,
   "metadata": {
    "collapsed": true
   },
   "outputs": [],
   "source": []
  }
 ],
 "metadata": {
  "kernelspec": {
   "display_name": "Python 3",
   "language": "python",
   "name": "python3"
  },
  "language_info": {
   "codemirror_mode": {
    "name": "ipython",
    "version": 3
   },
   "file_extension": ".py",
   "mimetype": "text/x-python",
   "name": "python",
   "nbconvert_exporter": "python",
   "pygments_lexer": "ipython3",
   "version": "3.6.1"
  }
 },
 "nbformat": 4,
 "nbformat_minor": 1
}
