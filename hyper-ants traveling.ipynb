{
 "cells": [
  {
   "cell_type": "markdown",
   "metadata": {},
   "source": [
    "# Hyper-ants: ants traveling in hyperspace\n",
    "Hyper-ants: ants traveling in hyperspace\n",
    "An ant is at the origin in n-dimensional Euclidean space, and is about to traverse the edges of a hypercube with sides of unit length. At each vertex, the ant randomly chooses an edge, and moves to the next vertex. On average, how far will the ant travel until it reaches(1,1,...,1)?"
   ]
  },
  {
   "cell_type": "code",
   "execution_count": 17,
   "metadata": {},
   "outputs": [
    {
     "data": {
      "text/plain": [
       "10.02694"
      ]
     },
     "execution_count": 17,
     "metadata": {},
     "output_type": "execute_result"
    }
   ],
   "source": [
    "from random import randint\n",
    "\n",
    "def number_of_moves(dimension):\n",
    "    #return the number of moves needed for\n",
    "    #one simulated trip by the ant\n",
    "    vertex=[0]*dimension #create coordinate\n",
    "    move_count=0\n",
    "    while sum(vertex)<dimension:\n",
    "        axis_choice=randint(0,dimension-1)\n",
    "        vertex[axis_choice]=1-vertex[axis_choice]\n",
    "        move_count+=1\n",
    "    return move_count\n",
    "\n",
    "number_of_trials=1000\n",
    "sum([number_of_moves(3) for i in range(number_of_trials)])/number_of_trials"
   ]
  },
  {
   "cell_type": "code",
   "execution_count": 24,
   "metadata": {},
   "outputs": [
    {
     "data": {
      "text/plain": [
       "{4: 92,\n",
       " 6: 83,\n",
       " 8: 96,\n",
       " 10: 76,\n",
       " 12: 48,\n",
       " 14: 64,\n",
       " 16: 49,\n",
       " 18: 63,\n",
       " 20: 51,\n",
       " 22: 37,\n",
       " 24: 34,\n",
       " 26: 25,\n",
       " 28: 33,\n",
       " 30: 33,\n",
       " 32: 25,\n",
       " 34: 21,\n",
       " 36: 15,\n",
       " 38: 14,\n",
       " 40: 20,\n",
       " 42: 17,\n",
       " 44: 15,\n",
       " 46: 7,\n",
       " 48: 16,\n",
       " 50: 7,\n",
       " 52: 5,\n",
       " 54: 2,\n",
       " 56: 5,\n",
       " 58: 11,\n",
       " 60: 6,\n",
       " 62: 1,\n",
       " 64: 2,\n",
       " 66: 2,\n",
       " 68: 1,\n",
       " 70: 2,\n",
       " 72: 1,\n",
       " 74: 6,\n",
       " 76: 4,\n",
       " 80: 1,\n",
       " 82: 1,\n",
       " 86: 2,\n",
       " 90: 3,\n",
       " 92: 1,\n",
       " 96: 1,\n",
       " 100: 1,\n",
       " 126: 1}"
      ]
     },
     "execution_count": 24,
     "metadata": {},
     "output_type": "execute_result"
    }
   ],
   "source": [
    "from random import randint\n",
    "\n",
    "def number_of_moves(dimension):\n",
    "    #return the number of moves needed for\n",
    "    #one simulated trip by the ant\n",
    "    vertex=[0]*dimension\n",
    "    move_count=0\n",
    "    while sum(vertex)<dimension:\n",
    "        axis_choice=randint(0,dimension-1) #choose which axis should the ant go along\n",
    "        vertex[axis_choice]=1-vertex[axis_choice] #change coordinate figure of the chosen axis\n",
    "        move_count+=1\n",
    "    return move_count\n",
    "\n",
    "number_of_trials=1000\n",
    "trials=[number_of_moves(4) for i in range(number_of_trials)]\n",
    "#initialize dictionary to count frequency of number of moves\n",
    "number_moves_count={trial:0 for trial in trials}\n",
    "\n",
    "for trial in trials:\n",
    "    number_moves_count[trial]+=1\n",
    "number_moves_count"
   ]
  }
 ],
 "metadata": {
  "kernelspec": {
   "display_name": "Python 3",
   "language": "python",
   "name": "python3"
  },
  "language_info": {
   "codemirror_mode": {
    "name": "ipython",
    "version": 3
   },
   "file_extension": ".py",
   "mimetype": "text/x-python",
   "name": "python",
   "nbconvert_exporter": "python",
   "pygments_lexer": "ipython3",
   "version": "3.6.1"
  }
 },
 "nbformat": 4,
 "nbformat_minor": 2
}
